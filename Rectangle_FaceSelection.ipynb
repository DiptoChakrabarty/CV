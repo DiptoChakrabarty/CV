{
 "cells": [
  {
   "cell_type": "code",
   "execution_count": 5,
   "metadata": {},
   "outputs": [],
   "source": [
    "import cv2\n",
    "cap=cv2.VideoCapture(0)\n",
    "ret,photo=cap.read()\n",
    "cv2.imshow(\"Photo\",photo)\n",
    "cv2.waitKey()\n",
    "cv2.destroyAllWindows()\n",
    "cap.release()"
   ]
  },
  {
   "cell_type": "code",
   "execution_count": 6,
   "metadata": {},
   "outputs": [],
   "source": [
    "face=cv2.CascadeClassifier(\"/root/Desktop/Github/CV/haarcascade_frontalface_default.xml\")"
   ]
  },
  {
   "cell_type": "code",
   "execution_count": 7,
   "metadata": {},
   "outputs": [],
   "source": [
    "cr=face.detectMultiScale(photo)"
   ]
  },
  {
   "cell_type": "code",
   "execution_count": 8,
   "metadata": {},
   "outputs": [
    {
     "data": {
      "text/plain": [
       "array([[289, 139, 202, 202]], dtype=int32)"
      ]
     },
     "execution_count": 8,
     "metadata": {},
     "output_type": "execute_result"
    }
   ],
   "source": [
    "cr"
   ]
  },
  {
   "cell_type": "code",
   "execution_count": 9,
   "metadata": {},
   "outputs": [],
   "source": [
    "x1=cr[0][0]\n",
    "y1=cr[0][1]\n",
    "x2=x1+cr[0][2]\n",
    "y2=x2+cr[0][3]"
   ]
  },
  {
   "cell_type": "code",
   "execution_count": 10,
   "metadata": {},
   "outputs": [],
   "source": [
    "final_photo=cv2.rectangle(photo,(x1,y1),(x2,y2),(0,255,0),10)\n",
    "cv2.imshow(\"Photo\",final_photo)\n",
    "cv2.waitKey()\n",
    "cv2.destroyAllWindows()"
   ]
  },
  {
   "cell_type": "code",
   "execution_count": null,
   "metadata": {},
   "outputs": [],
   "source": [
    "face=cv2.CascadeClassifier(\"/root/Desktop/Github/CV/haarcascade_frontalface_default.xml\")\n",
    "while True:\n",
    "    cap=cv2.VideoCapture(0)\n",
    "    ret,photo=cap.read()\n",
    "    \n",
    "    cr=face.detectMultiScale(photo)\n",
    "    if(len(cr)==1):\n",
    "        x1=cr[0][0]\n",
    "        y1=cr[0][1]\n",
    "        x2=x1+cr[0][2]\n",
    "        y2=x2+cr[0][3]\n",
    "        final_photo=cv2.rectangle(photo,(x1,y1),(x2,y2),(0,255,0),10)\n",
    "        cv2.imshow(\"Photo\",final_photo)\n",
    "        if(cv2.waitKey(1)==13):\n",
    "            break\n",
    "cv2.destroyAllWindows()\n",
    "cap.release()"
   ]
  },
  {
   "cell_type": "code",
   "execution_count": null,
   "metadata": {},
   "outputs": [],
   "source": []
  }
 ],
 "metadata": {
  "kernelspec": {
   "display_name": "Python 3",
   "language": "python",
   "name": "python3"
  },
  "language_info": {
   "codemirror_mode": {
    "name": "ipython",
    "version": 3
   },
   "file_extension": ".py",
   "mimetype": "text/x-python",
   "name": "python",
   "nbconvert_exporter": "python",
   "pygments_lexer": "ipython3",
   "version": "3.6.6"
  }
 },
 "nbformat": 4,
 "nbformat_minor": 2
}
