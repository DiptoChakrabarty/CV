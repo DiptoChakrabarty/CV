{
 "cells": [
  {
   "cell_type": "code",
   "execution_count": null,
   "metadata": {},
   "outputs": [],
   "source": [
    "import cv2\n",
    "x=cv2.imread(\"face.jpg\",0)\n",
    "cv2.imshow(\"photo\",x)\n",
    "cv2.waitKey()\n",
    "cv2.destroyAllWindows()\n"
   ]
  },
  {
   "cell_type": "code",
   "execution_count": null,
   "metadata": {},
   "outputs": [],
   "source": [
    "face=cv2.CascadeClassifier(\"/root/Desktop/Github/CV/haarcascade_frontalface_default.xml\")"
   ]
  },
  {
   "cell_type": "code",
   "execution_count": null,
   "metadata": {},
   "outputs": [],
   "source": [
    "cr=face.detectMultiScale(x)"
   ]
  },
  {
   "cell_type": "code",
   "execution_count": null,
   "metadata": {},
   "outputs": [],
   "source": [
    "cr"
   ]
  },
  {
   "cell_type": "code",
   "execution_count": null,
   "metadata": {},
   "outputs": [],
   "source": [
    "x1=cr[0][0]\n",
    "y1=cr[0][1]\n",
    "x2=cr[0][0]+cr[0][2]\n",
    "y2=cr[0][1]+cr[0][3]\n",
    "x3=cr[1][0]\n",
    "y3=cr[1][1]\n",
    "x4=cr[1][0]+cr[1][2]\n",
    "y4=cr[1][1]+cr[1][3]"
   ]
  },
  {
   "cell_type": "code",
   "execution_count": null,
   "metadata": {},
   "outputs": [],
   "source": [
    "final_photo=cv2.rectangle(x,(x1,y1),(x2,y2),(0,255,0),10)\n",
    "final_photo2=cv2.rectangle(x,(x3,y3),(x4,y4),(0,255,0),10)\n",
    "final=final_photo+final_photo2\n",
    "cv2.imshow(\"Photo\",final)\n",
    "cv2.waitKey()\n",
    "cv2.destroyAllWindows()"
   ]
  },
  {
   "cell_type": "code",
   "execution_count": null,
   "metadata": {},
   "outputs": [],
   "source": [
    "cap.release()"
   ]
  },
  {
   "cell_type": "code",
   "execution_count": null,
   "metadata": {},
   "outputs": [],
   "source": [
    "import cv2\n",
    "face=cv2.CascadeClassifier(\"/root/Desktop/Github/CV/haarcascade_frontalface_default.xml\")\n",
    "cap=cv2.VideoCapture(0)\n",
    "face_storage=[]\n",
    "while True:\n",
    "    \n",
    "    ret,photo=cap.read()\n",
    "    \n",
    "    cr=face.detectMultiScale(photo)\n",
    "    face_storage.append(cr)\n",
    "    for (x,y,w,h) in cr:\n",
    "        cv2.rectangle(photo,(x,y),(x+w,y+h),(0,255,0),3)\n",
    "    cv2.imshow(\"Photo\",photo)\n",
    "    if(cv2.waitKey(1)==13):\n",
    "            break\n",
    "\n",
    "cv2.destroyAllWindows()\n",
    "cap.release()"
   ]
  },
  {
   "cell_type": "code",
   "execution_count": 3,
   "metadata": {},
   "outputs": [
    {
     "data": {
      "text/plain": [
       "[array([[206, 189, 213, 213]], dtype=int32),\n",
       " array([[207, 189, 213, 213]], dtype=int32),\n",
       " array([[206, 189, 214, 214]], dtype=int32),\n",
       " array([[206, 190, 213, 213]], dtype=int32),\n",
       " array([[206, 191, 212, 212]], dtype=int32),\n",
       " array([[206, 190, 213, 213]], dtype=int32),\n",
       " array([[206, 190, 213, 213]], dtype=int32),\n",
       " array([[207, 191, 211, 211]], dtype=int32),\n",
       " array([[206, 190, 213, 213]], dtype=int32),\n",
       " array([[205, 190, 212, 212]], dtype=int32),\n",
       " array([[205, 191, 211, 211]], dtype=int32),\n",
       " array([[205, 190, 213, 213]], dtype=int32),\n",
       " array([[206, 192, 211, 211]], dtype=int32),\n",
       " array([[206, 190, 213, 213]], dtype=int32),\n",
       " array([[206, 191, 213, 213]], dtype=int32),\n",
       " array([[207, 191, 210, 210]], dtype=int32),\n",
       " array([[208, 189, 213, 213]], dtype=int32),\n",
       " array([[215, 184, 213, 213]], dtype=int32),\n",
       " array([[225, 186, 204, 204]], dtype=int32),\n",
       " array([[229, 185, 200, 200]], dtype=int32),\n",
       " array([[235, 186, 195, 195]], dtype=int32),\n",
       " array([[233, 182, 199, 199]], dtype=int32),\n",
       " array([[236, 185, 191, 191]], dtype=int32),\n",
       " array([[233, 183, 196, 196]], dtype=int32),\n",
       " array([[235, 185, 191, 191]], dtype=int32),\n",
       " array([[233, 184, 192, 192]], dtype=int32),\n",
       " array([[233, 183, 194, 194]], dtype=int32),\n",
       " array([[233, 184, 192, 192]], dtype=int32),\n",
       " array([[233, 184, 192, 192]], dtype=int32),\n",
       " array([[232, 182, 197, 197]], dtype=int32),\n",
       " array([[234, 182, 195, 195]], dtype=int32),\n",
       " array([[237, 184, 192, 192]], dtype=int32),\n",
       " array([[237, 182, 197, 197]], dtype=int32),\n",
       " array([[238, 182, 196, 196]], dtype=int32),\n",
       " array([[244, 183, 198, 198]], dtype=int32),\n",
       " array([[250, 182, 200, 200]], dtype=int32),\n",
       " array([[255, 182, 197, 197]], dtype=int32),\n",
       " array([[256, 184, 199, 199]], dtype=int32),\n",
       " array([[258, 186, 196, 196]], dtype=int32),\n",
       " array([[260, 186, 196, 196]], dtype=int32),\n",
       " array([[266, 185, 191, 191]], dtype=int32),\n",
       " array([[264, 186, 197, 197]], dtype=int32),\n",
       " array([[266, 185, 194, 194]], dtype=int32),\n",
       " array([[258, 184, 205, 205]], dtype=int32),\n",
       " array([[255, 188, 195, 195]], dtype=int32),\n",
       " array([[243, 194, 196, 196]], dtype=int32),\n",
       " array([[236, 189, 204, 204]], dtype=int32),\n",
       " array([[236, 194, 199, 199]], dtype=int32),\n",
       " array([[235, 190, 202, 202]], dtype=int32),\n",
       " array([[238, 193, 200, 200]], dtype=int32),\n",
       " array([[242, 197, 189, 189],\n",
       "        [544, 360,  79,  79]], dtype=int32),\n",
       " array([[243, 195, 190, 190],\n",
       "        [545, 361,  78,  78]], dtype=int32),\n",
       " array([[250, 196, 190, 190],\n",
       "        [545, 361,  77,  77]], dtype=int32),\n",
       " array([[246, 196, 189, 189],\n",
       "        [544, 358,  80,  80]], dtype=int32),\n",
       " array([[248, 195, 191, 191]], dtype=int32),\n",
       " array([[249, 194, 194, 194]], dtype=int32),\n",
       " array([[250, 197, 191, 191]], dtype=int32),\n",
       " array([[251, 195, 192, 192]], dtype=int32),\n",
       " array([[251, 196, 192, 192]], dtype=int32),\n",
       " array([[254, 195, 196, 196]], dtype=int32),\n",
       " array([[256, 196, 194, 194]], dtype=int32),\n",
       " array([[256, 192, 202, 202]], dtype=int32),\n",
       " array([[259, 198, 192, 192]], dtype=int32),\n",
       " array([[407, 206, 226, 226],\n",
       "        [260, 209, 193, 193]], dtype=int32),\n",
       " array([[253, 212, 184, 184],\n",
       "        [408, 202, 222, 222]], dtype=int32),\n",
       " array([[403, 202, 226, 226]], dtype=int32),\n",
       " array([[406, 202, 219, 219]], dtype=int32),\n",
       " array([[403, 200, 220, 220],\n",
       "        [241, 216, 192, 192]], dtype=int32),\n",
       " array([[402, 199, 216, 216],\n",
       "        [239, 213, 196, 196]], dtype=int32),\n",
       " array([[414, 201, 209, 209]], dtype=int32),\n",
       " array([[426, 194, 204, 204]], dtype=int32),\n",
       " array([[435, 194, 193, 193]], dtype=int32),\n",
       " array([[423, 189, 205, 205]], dtype=int32),\n",
       " array([[406, 194, 207, 207]], dtype=int32),\n",
       " array([[396, 202, 202, 202]], dtype=int32),\n",
       " array([[392, 207, 200, 200]], dtype=int32),\n",
       " array([[392, 208, 199, 199]], dtype=int32),\n",
       " array([[394, 207, 202, 202]], dtype=int32),\n",
       " array([[400, 204, 209, 209],\n",
       "        [240, 216, 192, 192]], dtype=int32),\n",
       " array([[408, 209, 207, 207]], dtype=int32),\n",
       " array([[415, 210, 205, 205]], dtype=int32),\n",
       " array([[416, 211, 206, 206],\n",
       "        [244, 220, 182, 182]], dtype=int32),\n",
       " array([[419, 211, 207, 207]], dtype=int32),\n",
       " array([[416, 211, 209, 209]], dtype=int32),\n",
       " array([[425, 214, 202, 202]], dtype=int32),\n",
       " array([[426, 212, 200, 200]], dtype=int32),\n",
       " array([[437, 217, 192, 192],\n",
       "        [336, 414,  64,  64]], dtype=int32),\n",
       " array([[441, 215, 190, 190]], dtype=int32),\n",
       " array([[227, 214, 196, 196],\n",
       "        [444, 214, 193, 193]], dtype=int32),\n",
       " array([[445, 214, 191, 191],\n",
       "        [232, 217, 189, 189]], dtype=int32),\n",
       " array([[233, 216, 190, 190],\n",
       "        [446, 215, 187, 187]], dtype=int32),\n",
       " array([[231, 214, 192, 192],\n",
       "        [442, 213, 193, 193]], dtype=int32),\n",
       " array([[236, 217, 187, 187],\n",
       "        [444, 214, 191, 191]], dtype=int32),\n",
       " array([[236, 215, 191, 191],\n",
       "        [444, 213, 193, 193]], dtype=int32)]"
      ]
     },
     "execution_count": 3,
     "metadata": {},
     "output_type": "execute_result"
    }
   ],
   "source": [
    "face_storage"
   ]
  },
  {
   "cell_type": "code",
   "execution_count": null,
   "metadata": {},
   "outputs": [],
   "source": [
    "import cv2\n",
    "face=cv2.CascadeClassifier(\"/root/Desktop/Github/CV/haarcascade_frontalface_default.xml\")\n",
    "cap=cv2.VideoCapture(0)\n",
    "ret,photo=cap.read()\n",
    "cr=face.detectMultiScale(photo)\n",
    "for (x,y,w,h) in cr:\n",
    "    cv2.rectangle(photo,(x,y),(x+w,y+h),(0,255,0),3)\n",
    "    \n",
    "    \n",
    "cv2.imshow(\"Photo\",photo)\n",
    "cv2.waitKey()\n",
    "cv2.destroyAllWindows()\n",
    "    \n",
    "    "
   ]
  },
  {
   "cell_type": "code",
   "execution_count": 5,
   "metadata": {},
   "outputs": [],
   "source": [
    "cap.release()"
   ]
  },
  {
   "cell_type": "code",
   "execution_count": 9,
   "metadata": {},
   "outputs": [],
   "source": [
    "import cv2\n",
    "face=cv2.CascadeClassifier(\"/root/Desktop/Github/CV/haarcascade_frontalface_default.xml\")\n",
    "cap=cv2.VideoCapture(0)\n",
    "face_capture=[]\n",
    "k=0\n",
    "while True:\n",
    "    \n",
    "    ret,photo=cap.read()\n",
    "    cr=face.detectMultiScale(photo)\n",
    "    \n",
    "    if(len(cr)>k):\n",
    "        face_capture.append(cr)    \n",
    "    k=len(cr)\n",
    "    for (x,y,w,h) in cr:\n",
    "        cv2.rectangle(photo,(x,y),(x+w,y+h),(0,255,0),3)\n",
    "    cv2.imshow(\"Photo\",photo)\n",
    "    \n",
    "    if(cv2.waitKey(1)==13):\n",
    "            break\n",
    "\n",
    "cv2.destroyAllWindows()\n",
    "cap.release()"
   ]
  },
  {
   "cell_type": "code",
   "execution_count": 18,
   "metadata": {},
   "outputs": [
    {
     "ename": "NameError",
     "evalue": "name 'z' is not defined",
     "output_type": "error",
     "traceback": [
      "\u001b[0;31m---------------------------------------------------------------------------\u001b[0m",
      "\u001b[0;31mNameError\u001b[0m                                 Traceback (most recent call last)",
      "\u001b[0;32m<ipython-input-18-9a43910e18e1>\u001b[0m in \u001b[0;36m<module>\u001b[0;34m\u001b[0m\n\u001b[1;32m      2\u001b[0m \u001b[0mface_capture\u001b[0m\u001b[0;34m\u001b[0m\u001b[0m\n\u001b[1;32m      3\u001b[0m \u001b[0;32mfor\u001b[0m \u001b[0mi\u001b[0m \u001b[0;32min\u001b[0m \u001b[0mface_capture\u001b[0m\u001b[0;34m:\u001b[0m\u001b[0;34m\u001b[0m\u001b[0m\n\u001b[0;32m----> 4\u001b[0;31m     \u001b[0mnew_photo\u001b[0m\u001b[0;34m=\u001b[0m\u001b[0mphoto\u001b[0m\u001b[0;34m[\u001b[0m\u001b[0mx\u001b[0m\u001b[0;34m:\u001b[0m\u001b[0mx\u001b[0m\u001b[0;34m+\u001b[0m\u001b[0mw\u001b[0m\u001b[0;34m,\u001b[0m\u001b[0my\u001b[0m\u001b[0;34m:\u001b[0m\u001b[0my\u001b[0m\u001b[0;34m+\u001b[0m\u001b[0mz\u001b[0m\u001b[0;34m]\u001b[0m\u001b[0;34m\u001b[0m\u001b[0m\n\u001b[0m\u001b[1;32m      5\u001b[0m     \u001b[0mcv2\u001b[0m\u001b[0;34m.\u001b[0m\u001b[0mimwrite\u001b[0m\u001b[0;34m(\u001b[0m\u001b[0;34m\"{}.png\"\u001b[0m\u001b[0;34m.\u001b[0m\u001b[0mformat\u001b[0m\u001b[0;34m(\u001b[0m\u001b[0mtime\u001b[0m\u001b[0;34m.\u001b[0m\u001b[0mctime\u001b[0m\u001b[0;34m(\u001b[0m\u001b[0;34m)\u001b[0m\u001b[0;34m)\u001b[0m\u001b[0;34m,\u001b[0m\u001b[0mnew_photo\u001b[0m\u001b[0;34m)\u001b[0m\u001b[0;34m\u001b[0m\u001b[0m\n",
      "\u001b[0;31mNameError\u001b[0m: name 'z' is not defined"
     ]
    }
   ],
   "source": [
    "import time\n",
    "face_capture\n",
    "for i in face_capture:\n",
    "    new_photo=photo[]\n",
    "    cv2.imwrite(\"{}.png\".format(time.ctime()),new_photo)"
   ]
  },
  {
   "cell_type": "code",
   "execution_count": 19,
   "metadata": {},
   "outputs": [
    {
     "name": "stdout",
     "output_type": "stream",
     "text": [
      "[[338 175 195 195]] \n",
      "\n",
      "[[346 200 100 100]] \n",
      "\n",
      "[[172   6 287 287]\n",
      " [187 124 243 243]] \n",
      "\n",
      "[[204 111 257 257]\n",
      " [543 430  37  37]] \n",
      "\n"
     ]
    },
    {
     "data": {
      "text/plain": [
       "4"
      ]
     },
     "execution_count": 19,
     "metadata": {},
     "output_type": "execute_result"
    }
   ],
   "source": [
    "for i in face_capture:\n",
    "    print(i,\"\\n\")\n",
    "face_capture[0]\n",
    "len(face_capture)"
   ]
  },
  {
   "cell_type": "code",
   "execution_count": 20,
   "metadata": {},
   "outputs": [],
   "source": [
    "import cv2\n",
    "face=cv2.CascadeClassifier(\"/root/Desktop/Github/CV/haarcascade_frontalface_default.xml\")\n",
    "cap=cv2.VideoCapture(0)\n",
    "face_capture=[]\n",
    "k=0\n",
    "while True:\n",
    "    \n",
    "    ret,photo=cap.read()\n",
    "    cr=face.detectMultiScale(photo)\n",
    "    \n",
    "    if(len(cr)>k):\n",
    "        face_capture.append(cr)    \n",
    "    k=len(cr)\n",
    "    for (x,y,w,h) in cr:\n",
    "        cv2.rectangle(photo,(x,y),(x+w,y+h),(0,255,0),3)\n",
    "        new_photo=photo[x:x+w,y:y+h]\n",
    "        cv2.imwrite(\"{}.png\".format(time.ctime()),new_photo)\n",
    "        \n",
    "    cv2.imshow(\"Photo\",photo)\n",
    "    \n",
    "    if(cv2.waitKey(1)==13):\n",
    "            break\n",
    "\n",
    "cv2.destroyAllWindows()\n",
    "cap.release()"
   ]
  },
  {
   "cell_type": "code",
   "execution_count": 23,
   "metadata": {},
   "outputs": [],
   "source": [
    "import cv2\n",
    "face=cv2.CascadeClassifier(\"/root/Desktop/Github/CV/haarcascade_frontalface_default.xml\")\n",
    "cap=cv2.VideoCapture(0)\n",
    "face_capture=[]\n",
    "k=0\n",
    "while True:\n",
    "    \n",
    "    ret,photo=cap.read()\n",
    "    cr=face.detectMultiScale(photo)\n",
    "    \n",
    "    if(len(cr)>k):\n",
    "        face_capture.append(cr) \n",
    "        new_photo=photo[cr[-1][0]:cr[-1][2],cr[-1][1]:cr[-1][3]]\n",
    "        cv2.imwrite(\"{}.png\".format(time.ctime()),new_photo)\n",
    "    k=len(cr)\n",
    "    for (x,y,w,h) in cr:\n",
    "        cv2.rectangle(photo,(x,y),(x+w,y+h),(0,255,0),3)\n",
    "        \n",
    "        \n",
    "    cv2.imshow(\"Photo\",photo)\n",
    "    \n",
    "    if(cv2.waitKey(1)==13):\n",
    "            break\n",
    "\n",
    "cv2.destroyAllWindows()\n",
    "cap.release()"
   ]
  },
  {
   "cell_type": "code",
   "execution_count": null,
   "metadata": {},
   "outputs": [],
   "source": []
  }
 ],
 "metadata": {
  "kernelspec": {
   "display_name": "Python 3",
   "language": "python",
   "name": "python3"
  },
  "language_info": {
   "codemirror_mode": {
    "name": "ipython",
    "version": 3
   },
   "file_extension": ".py",
   "mimetype": "text/x-python",
   "name": "python",
   "nbconvert_exporter": "python",
   "pygments_lexer": "ipython3",
   "version": "3.6.6"
  }
 },
 "nbformat": 4,
 "nbformat_minor": 2
}
