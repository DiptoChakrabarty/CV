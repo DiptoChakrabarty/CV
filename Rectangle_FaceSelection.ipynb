{
 "cells": [
  {
   "cell_type": "code",
   "execution_count": null,
   "metadata": {},
   "outputs": [],
   "source": [
    "import cv2\n",
    "x=cv2.imread(\"face.jpg\",0)\n",
    "cv2.imshow(\"photo\",x)\n",
    "cv2.waitKey()\n",
    "cv2.destroyAllWindows()\n"
   ]
  },
  {
   "cell_type": "code",
   "execution_count": null,
   "metadata": {},
   "outputs": [],
   "source": [
    "face=cv2.CascadeClassifier(\"/root/Desktop/Github/CV/haarcascade_frontalface_default.xml\")"
   ]
  },
  {
   "cell_type": "code",
   "execution_count": null,
   "metadata": {},
   "outputs": [],
   "source": [
    "cr=face.detectMultiScale(x)"
   ]
  },
  {
   "cell_type": "code",
   "execution_count": null,
   "metadata": {},
   "outputs": [],
   "source": [
    "cr"
   ]
  },
  {
   "cell_type": "code",
   "execution_count": null,
   "metadata": {},
   "outputs": [],
   "source": [
    "x1=cr[0][0]\n",
    "y1=cr[0][1]\n",
    "x2=cr[0][0]+cr[0][2]\n",
    "y2=cr[0][1]+cr[0][3]\n",
    "x3=cr[1][0]\n",
    "y3=cr[1][1]\n",
    "x4=cr[1][0]+cr[1][2]\n",
    "y4=cr[1][1]+cr[1][3]"
   ]
  },
  {
   "cell_type": "code",
   "execution_count": null,
   "metadata": {},
   "outputs": [],
   "source": [
    "final_photo=cv2.rectangle(x,(x1,y1),(x2,y2),(0,255,0),10)\n",
    "final_photo2=cv2.rectangle(x,(x3,y3),(x4,y4),(0,255,0),10)\n",
    "final=final_photo+final_photo2\n",
    "cv2.imshow(\"Photo\",final)\n",
    "cv2.waitKey()\n",
    "cv2.destroyAllWindows()"
   ]
  },
  {
   "cell_type": "code",
   "execution_count": null,
   "metadata": {},
   "outputs": [],
   "source": [
    "cap.release()"
   ]
  },
  {
   "cell_type": "code",
   "execution_count": 11,
   "metadata": {},
   "outputs": [],
   "source": [
    "import cv2\n",
    "face=cv2.CascadeClassifier(\"/root/Desktop/Github/CV/haarcascade_frontalface_default.xml\")\n",
    "cap=cv2.VideoCapture(0)\n",
    "while True:\n",
    "    \n",
    "    ret,photo=cap.read()\n",
    "    \n",
    "    cr=face.detectMultiScale(photo)\n",
    "    for (x,y,w,h) in cr:\n",
    "        cv2.rectangle(photo,(x,y),(x+w,y+h),(0,255,0),3)\n",
    "    cv2.imshow(\"Photo\",photo)\n",
    "    if(cv2.waitKey(1)==13):\n",
    "            break\n",
    "\n",
    "cv2.destroyAllWindows()\n",
    "cap.release()"
   ]
  },
  {
   "cell_type": "code",
   "execution_count": null,
   "metadata": {},
   "outputs": [],
   "source": []
  },
  {
   "cell_type": "code",
   "execution_count": 5,
   "metadata": {},
   "outputs": [],
   "source": [
    "import cv2\n",
    "face=cv2.CascadeClassifier(\"/root/Desktop/Github/CV/haarcascade_frontalface_default.xml\")\n",
    "cap=cv2.VideoCapture(0)\n",
    "ret,photo=cap.read()\n",
    "cr=face.detectMultiScale(photo)\n",
    "for (x,y,w,h) in cr:\n",
    "    cv2.rectangle(photo,(x,y),(x+w,y+h),(0,255,0),3)\n",
    "    \n",
    "    \n",
    "cv2.imshow(\"Photo\",photo)\n",
    "cv2.waitKey()\n",
    "cv2.destroyAllWindows()\n",
    "    \n",
    "    "
   ]
  },
  {
   "cell_type": "code",
   "execution_count": 12,
   "metadata": {},
   "outputs": [],
   "source": [
    "cap.release()"
   ]
  },
  {
   "cell_type": "code",
   "execution_count": null,
   "metadata": {},
   "outputs": [],
   "source": []
  }
 ],
 "metadata": {
  "kernelspec": {
   "display_name": "Python 3",
   "language": "python",
   "name": "python3"
  },
  "language_info": {
   "codemirror_mode": {
    "name": "ipython",
    "version": 3
   },
   "file_extension": ".py",
   "mimetype": "text/x-python",
   "name": "python",
   "nbconvert_exporter": "python",
   "pygments_lexer": "ipython3",
   "version": "3.6.6"
  }
 },
 "nbformat": 4,
 "nbformat_minor": 2
}
